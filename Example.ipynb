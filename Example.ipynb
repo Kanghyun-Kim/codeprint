{
 "cells": [
  {
   "cell_type": "code",
   "execution_count": 1,
   "metadata": {},
   "outputs": [],
   "source": [
    "from codeprint import RawCode"
   ]
  },
  {
   "cell_type": "markdown",
   "metadata": {},
   "source": [
    "### define RawCode class"
   ]
  },
  {
   "cell_type": "code",
   "execution_count": 2,
   "metadata": {},
   "outputs": [],
   "source": [
    "code = RawCode('codeprint.py')"
   ]
  },
  {
   "cell_type": "markdown",
   "metadata": {},
   "source": [
    "###  View Classes in this code"
   ]
  },
  {
   "cell_type": "code",
   "execution_count": 3,
   "metadata": {},
   "outputs": [
    {
     "data": {
      "text/plain": [
       "[(2, 'Coloring'), (46, 'RawCode'), (78, 'End')]"
      ]
     },
     "execution_count": 3,
     "metadata": {},
     "output_type": "execute_result"
    }
   ],
   "source": [
    "code.class_info"
   ]
  },
  {
   "cell_type": "markdown",
   "metadata": {},
   "source": [
    "### Print class"
   ]
  },
  {
   "cell_type": "code",
   "execution_count": 4,
   "metadata": {},
   "outputs": [
    {
     "name": "stdout",
     "output_type": "stream",
     "text": [
      "\u001b[32mclass \u001b[34mRawCode\u001b[0m(Coloring):\n",
      "    \u001b[32mdef \u001b[34m__init__\u001b[0m(self, file_name):\n",
      "        self.file_str \u001b[35m=\u001b[0m []\n",
      "        with open(file_name,\u001b[33m'r'\u001b[0m) as f:\n",
      "            \u001b[32mfor\u001b[0m line \u001b[32min\u001b[0m f:\n",
      "                self.file_str.append(line.replace(\u001b[33m'\\n'\u001b[0m,''))\n",
      "\n",
      "        self.get_class_info()\n",
      "\n",
      "    \u001b[32mdef \u001b[34mget_class_info\u001b[0m(self):\n",
      "        self.class_info \u001b[35m=\u001b[0m []\n",
      "        \u001b[32m#p = re.compile('class ([a-zA-Z])\\(.*')\u001b[0m\n",
      "        p \u001b[35m=\u001b[0m re.compile(r\u001b[33m'class ([\\w]\u001b[35m+\u001b[0m)'\u001b[0m)\n",
      "        \u001b[32mfor\u001b[0m i, line \u001b[32min\u001b[0m enumerate(self.file_str):\n",
      "            m \u001b[35m=\u001b[0m p.match(line)\n",
      "            \u001b[32mif\u001b[0m m:\n",
      "                class_name \u001b[35m=\u001b[0m m.group(1)\n",
      "                self.class_info.append((i,class_name))\n",
      "        self.class_info.append((len(self.file_str),\u001b[33m'End'\u001b[0m))\n",
      "\n",
      "\n",
      "    \u001b[32mdef \u001b[34mshow\u001b[0m(self, class_name):\n",
      "        \u001b[32mfor\u001b[0m i, class_ \u001b[32min\u001b[0m enumerate(self.class_info):\n",
      "            start, name \u001b[35m=\u001b[0m class_\n",
      "            \u001b[32mif\u001b[0m name \u001b[35m=\u001b[0m\u001b[35m=\u001b[0m class_name:\n",
      "                line_start \u001b[35m=\u001b[0m start\n",
      "                line_end \u001b[35m=\u001b[0m self.class_info[i\u001b[35m+\u001b[0m1][0] \u001b[35m-\u001b[0m 1\n",
      "        \n",
      "        \u001b[32mfor\u001b[0m line \u001b[32min\u001b[0m self.file_str[line_start:line_end]:\n",
      "            print(self.colored(line)) \n",
      "        \n"
     ]
    }
   ],
   "source": [
    "code.show('RawCode')"
   ]
  }
 ],
 "metadata": {
  "kernelspec": {
   "display_name": "Python 3",
   "language": "python",
   "name": "python3"
  },
  "language_info": {
   "codemirror_mode": {
    "name": "ipython",
    "version": 3
   },
   "file_extension": ".py",
   "mimetype": "text/x-python",
   "name": "python",
   "nbconvert_exporter": "python",
   "pygments_lexer": "ipython3",
   "version": "3.7.4"
  },
  "varInspector": {
   "cols": {
    "lenName": 16,
    "lenType": 16,
    "lenVar": 40
   },
   "kernels_config": {
    "python": {
     "delete_cmd_postfix": "",
     "delete_cmd_prefix": "del ",
     "library": "var_list.py",
     "varRefreshCmd": "print(var_dic_list())"
    },
    "r": {
     "delete_cmd_postfix": ") ",
     "delete_cmd_prefix": "rm(",
     "library": "var_list.r",
     "varRefreshCmd": "cat(var_dic_list()) "
    }
   },
   "types_to_exclude": [
    "module",
    "function",
    "builtin_function_or_method",
    "instance",
    "_Feature"
   ],
   "window_display": false
  }
 },
 "nbformat": 4,
 "nbformat_minor": 2
}
